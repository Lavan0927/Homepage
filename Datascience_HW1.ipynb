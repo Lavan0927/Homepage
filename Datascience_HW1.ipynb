{
  "nbformat": 4,
  "nbformat_minor": 0,
  "metadata": {
    "colab": {
      "name": "Datascience-HW1.ipynb",
      "provenance": [],
      "collapsed_sections": [],
      "authorship_tag": "ABX9TyNpUZIkVBa96gHF/8nVfs+v",
      "include_colab_link": true
    },
    "kernelspec": {
      "name": "python3",
      "display_name": "Python 3"
    },
    "language_info": {
      "name": "python"
    }
  },
  "cells": [
    {
      "cell_type": "markdown",
      "metadata": {
        "id": "view-in-github",
        "colab_type": "text"
      },
      "source": [
        "<a href=\"https://colab.research.google.com/github/Lavan0927/Homepage/blob/master/Datascience_HW1.ipynb\" target=\"_parent\"><img src=\"https://colab.research.google.com/assets/colab-badge.svg\" alt=\"Open In Colab\"/></a>"
      ]
    },
    {
      "cell_type": "code",
      "execution_count": null,
      "metadata": {
        "id": "RnYo_kB1fVus"
      },
      "outputs": [],
      "source": [
        "#Q1\n",
        "\n",
        "#2D\n",
        "\n",
        "x1=int(input(\"enter x1 : \"))\n",
        "\n",
        "x2=int(input(\"enter x2 : \"))\n",
        "\n",
        "y1=int(input(\"enter y1 : \"))\n",
        "\n",
        "y2=int(input(\"enter y2 : \"))\n",
        "\n",
        "result= ((((x2 - x1 )**2) + ((y2-y1)**2) )**0.5)\n",
        "\n",
        "print(\"distance between\",(x1,x2),\"and\",(y1,y2),\"is : \",result)\n"
      ]
    },
    {
      "cell_type": "code",
      "source": [
        "#Q2\n",
        "\n",
        "#3D\n",
        "\n",
        "x1=int(input(\"enter x1 : \"))\n",
        "\n",
        "x2=int(input(\"enter x2 : \"))\n",
        "\n",
        "y1=int(input(\"enter y1 : \"))\n",
        "\n",
        "y2=int(input(\"enter y2 : \"))\n",
        "\n",
        "z1=int(input(\"enter z1 : \"))\n",
        "\n",
        "z2=int(input(\"enter z2 : \"))\n",
        "\n",
        "result= (( ((x2 - x1 )**2) + ((y2-y1)**2) + ((z2-z1)**2) )**0.5)\n",
        "\n",
        "print(\"distance between\",(x1,y1,z1),\"and\",(x2,y2,z2),\"is : \",result)\n",
        "\n"
      ],
      "metadata": {
        "id": "ghY6uT7ygf7q"
      },
      "execution_count": null,
      "outputs": []
    },
    {
      "cell_type": "code",
      "source": [
        "#Q3\n",
        "\n",
        "#4Dimension\n",
        "#d(a,b) = sqrt( (a1 - b1)^2 + (a2 - b2)^2 + (a3 -b3)^2 + (a4 - b4)^2 )\n",
        "\n",
        "x1=int(input(\"enter x1 : \"))\n",
        "\n",
        "x2=int(input(\"enter x2 : \"))\n",
        "\n",
        "y1=int(input(\"enter y1 : \"))\n",
        "\n",
        "y2=int(input(\"enter y2 : \"))\n",
        "\n",
        "z1=int(input(\"enter z1 : \"))\n",
        "\n",
        "z2=int(input(\"enter z2 : \"))\n",
        "\n",
        "w1=int(input(\"enter w1 : \"))\n",
        "\n",
        "w2=int(input(\"enter w2 : \"))\n",
        "\n",
        "\n",
        "result= (( ((x2 - x1 )**2) + ((y2-y1)**2) + ((z2-z1)**2) + ((w2-w1)**2) )**0.5)\n",
        "\n",
        "print(\"distance between\",(x1,y1,z1,w1),\"and\",(x2,y2,z2,w2),\"is : \",result)\n"
      ],
      "metadata": {
        "id": "4Wjlfpimgv6A"
      },
      "execution_count": null,
      "outputs": []
    },
    {
      "cell_type": "code",
      "source": [
        "#OVERALL PROGRAM FOR THE QUESTION : DISTANCE BETWEEN 2 POINTS IN DIFFERENT PLANES\n",
        "\n",
        "D=int(input('In which plane do you need to find the distance(2 or 3 or 4):'))\n",
        "\n",
        "if D==2:\n",
        "  print('The distance between two points in '+ str(D) +'D plane')\n",
        "\n",
        "  x1=int(input(\"enter x1 : \"))\n",
        "\n",
        "  x2=int(input(\"enter x2 : \"))\n",
        "\n",
        "  y1=int(input(\"enter y1 : \"))\n",
        "\n",
        "  y2=int(input(\"enter y2 : \"))\n",
        "\n",
        "  result= ((((x2 - x1 )**2) + ((y2-y1)**2) )**0.5)\n",
        "\n",
        "  print(\"distance between\",(x1,x2),\"and\",(y1,y2),\"is : \",result)\n",
        "\n",
        "elif D==3:\n",
        "  print('The distance between two points in '+ str(D) +'D plane')\n",
        "\n",
        "  x1=int(input(\"enter x1 : \"))\n",
        "\n",
        "  x2=int(input(\"enter x2 : \"))\n",
        "\n",
        "  y1=int(input(\"enter y1 : \"))\n",
        "\n",
        "  y2=int(input(\"enter y2 : \"))\n",
        "\n",
        "  z1=int(input(\"enter z1 : \"))\n",
        "\n",
        "  z2=int(input(\"enter z2 : \"))\n",
        "\n",
        "  result= (( ((x2 - x1 )**2) + ((y2-y1)**2) + ((z2-z1)**2) )**0.5)\n",
        "\n",
        "  print(\"distance between\",(x1,y1,z1),\"and\",(x2,y2,z2),\"is : \",result)\n",
        "\n",
        "elif D==4:\n",
        "  print('The distance between two points in '+ str(D) +'D plane')\n",
        "\n",
        "  x1=int(input(\"enter x1 : \"))\n",
        "\n",
        "  x2=int(input(\"enter x2 : \"))\n",
        "\n",
        "  y1=int(input(\"enter y1 : \"))\n",
        "\n",
        "  y2=int(input(\"enter y2 : \"))\n",
        "\n",
        "  z1=int(input(\"enter z1 : \"))\n",
        "\n",
        "  z2=int(input(\"enter z2 : \"))\n",
        "\n",
        "  w1=int(input(\"enter w1 : \"))\n",
        "\n",
        "  w2=int(input(\"enter w2 : \"))\n",
        "\n",
        "\n",
        "  result= (( ((x2 - x1 )**2) + ((y2-y1)**2) + ((z2-z1)**2) + ((w2-w1)**2) )**0.5)\n",
        "\n",
        "  print(\"distance between\",(x1,y1,z1,w1),\"and\",(x2,y2,z2,w2),\"is : \",result)\n",
        "\n",
        "else:\n",
        "    print('Invalid input (Only 2,3,and 4 are available)')"
      ],
      "metadata": {
        "colab": {
          "base_uri": "https://localhost:8080/"
        },
        "id": "_xUc0lAQiyzz",
        "outputId": "294cf4e4-4924-4290-bbec-a9870ae39dc9"
      },
      "execution_count": 10,
      "outputs": [
        {
          "output_type": "stream",
          "name": "stdout",
          "text": [
            "In which plane do you need to find the distance(2 or 3 or 4):2\n",
            "The distance between two points in 2D plane\n",
            "enter x1 : 1\n",
            "enter x2 : 4\n",
            "enter y1 : 1\n",
            "enter y2 : 4\n",
            "distance between (1, 4) and (1, 4) is :  4.242640687119285\n"
          ]
        }
      ]
    }
  ]
}
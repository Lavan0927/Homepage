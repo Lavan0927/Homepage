{
  "nbformat": 4,
  "nbformat_minor": 0,
  "metadata": {
    "colab": {
      "name": "Datascience-HW1.ipynb",
      "provenance": [],
      "collapsed_sections": [],
      "authorship_tag": "ABX9TyNTA5wxNnoIBDRkC7+DChZx",
      "include_colab_link": true
    },
    "kernelspec": {
      "name": "python3",
      "display_name": "Python 3"
    },
    "language_info": {
      "name": "python"
    }
  },
  "cells": [
    {
      "cell_type": "markdown",
      "metadata": {
        "id": "view-in-github",
        "colab_type": "text"
      },
      "source": [
        "<a href=\"https://colab.research.google.com/github/Lavan0927/Homepage/blob/master/Datascience_HW1.ipynb\" target=\"_parent\"><img src=\"https://colab.research.google.com/assets/colab-badge.svg\" alt=\"Open In Colab\"/></a>"
      ]
    },
    {
      "cell_type": "code",
      "execution_count": 2,
      "metadata": {
        "colab": {
          "base_uri": "https://localhost:8080/"
        },
        "id": "RnYo_kB1fVus",
        "outputId": "707d971d-fb20-45a7-87eb-311349a504d0"
      },
      "outputs": [
        {
          "output_type": "stream",
          "name": "stdout",
          "text": [
            "enter x1 : 1\n",
            "enter x2 : 4\n",
            "enter y1 : 1\n",
            "enter y2 : 4\n",
            "distance between (1, 4) and (1, 4) is :  4.242640687119285\n"
          ]
        }
      ],
      "source": [
        "#Q1\n",
        "\n",
        "#2D\n",
        "\n",
        "x1=int(input(\"enter x1 : \"))\n",
        "\n",
        "x2=int(input(\"enter x2 : \"))\n",
        "\n",
        "y1=int(input(\"enter y1 : \"))\n",
        "\n",
        "y2=int(input(\"enter y2 : \"))\n",
        "\n",
        "result= ((((x2 - x1 )**2) + ((y2-y1)**2) )**0.5)\n",
        "\n",
        "print(\"distance between\",(x1,x2),\"and\",(y1,y2),\"is : \",result)\n"
      ]
    },
    {
      "cell_type": "code",
      "source": [
        "#Q2\n",
        "\n",
        "#3D\n",
        "\n",
        "x1=int(input(\"enter x1 : \"))\n",
        "\n",
        "x2=int(input(\"enter x2 : \"))\n",
        "\n",
        "y1=int(input(\"enter y1 : \"))\n",
        "\n",
        "y2=int(input(\"enter y2 : \"))\n",
        "\n",
        "z1=int(input(\"enter z1 : \"))\n",
        "\n",
        "z2=int(input(\"enter z2 : \"))\n",
        "\n",
        "result= (( ((x2 - x1 )**2) + ((y2-y1)**2) + ((z2-z1)**2) )**0.5)\n",
        "\n",
        "print(\"distance between\",(x1,y1,z1),\"and\",(x2,y2,z2),\"is : \",result)\n",
        "\n"
      ],
      "metadata": {
        "colab": {
          "base_uri": "https://localhost:8080/"
        },
        "id": "ghY6uT7ygf7q",
        "outputId": "1681b37b-4cf7-4cbb-e3a5-e53ba4a10965"
      },
      "execution_count": 3,
      "outputs": [
        {
          "output_type": "stream",
          "name": "stdout",
          "text": [
            "enter x1 : 1\n",
            "enter x2 : 4\n",
            "enter y1 : 2\n",
            "enter y2 : -8\n",
            "enter z1 : -3\n",
            "enter z2 : 3\n",
            "distance between (1, 2, -3) and (4, -8, 3) is :  12.041594578792296\n"
          ]
        }
      ]
    },
    {
      "cell_type": "code",
      "source": [
        "#Q3\n",
        "\n",
        "#4Dimension\n",
        "#d(a,b) = sqrt( (a1 - b1)^2 + (a2 - b2)^2 + (a3 -b3)^2 + (a4 - b4)^2 )\n",
        "\n",
        "x1=int(input(\"enter x1 : \"))\n",
        "\n",
        "x2=int(input(\"enter x2 : \"))\n",
        "\n",
        "y1=int(input(\"enter y1 : \"))\n",
        "\n",
        "y2=int(input(\"enter y2 : \"))\n",
        "\n",
        "z1=int(input(\"enter z1 : \"))\n",
        "\n",
        "z2=int(input(\"enter z2 : \"))\n",
        "\n",
        "w1=int(input(\"enter w1 : \"))\n",
        "\n",
        "w2=int(input(\"enter w2 : \"))\n",
        "\n",
        "\n",
        "result= (( ((x2 - x1 )**2) + ((y2-y1)**2) + ((z2-z1)**2) + ((w2-w1)**2) )**0.5)\n",
        "\n",
        "print(\"distance between\",(x1,y1,z1),\"and\",(x2,y2,z2),\"is : \",result)\n"
      ],
      "metadata": {
        "id": "4Wjlfpimgv6A"
      },
      "execution_count": null,
      "outputs": []
    }
  ]
}